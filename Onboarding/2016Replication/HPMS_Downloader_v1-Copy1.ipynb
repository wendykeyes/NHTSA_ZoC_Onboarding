{
 "cells": [
  {
   "cell_type": "markdown",
   "metadata": {},
   "source": [
    "### Pseudocode\n",
    "\n",
    "Goal: Scripted process to download HPMS shapefiles from FHWA website, compile into a single feature class, and provide output as a single zipped file geodatabase. A second goal is to publish this data as a service using the ArcGIS API for Python.\n",
    "\n",
    "### Process\n",
    "\n",
    "1. Create list of download urls\n",
    "\n",
    "2. Iterate on the list, download zip, and execute main zip->shapefile->feature class conversion loop\n",
    "\n",
    "3. Merge all feature classes into a single feature class for nation-wide HPMS\n",
    "\n",
    "4. Provide output as zipped file geodatabase. \n",
    "\n",
    "\n",
    "### Dependencies\n",
    "\n",
    "- 'us' module. To install, run \"pip install us\"\n",
    "- 'arcpy' module"
   ]
  },
  {
   "cell_type": "code",
   "execution_count": 17,
   "metadata": {},
   "outputs": [],
   "source": [
    "# Import needed modules\n",
    "import us\n",
    "import arcpy\n",
    "import os\n",
    "import requests\n",
    "import zipfile\n",
    "import shutil\n",
    "import io\n",
    "import datetime"
   ]
  },
  {
   "cell_type": "code",
   "execution_count": 18,
   "metadata": {
    "collapsed": true
   },
   "outputs": [],
   "source": [
    "# Set general variables\n",
    "workspace = r\"C:\\Users\\wen10109\\Documents\\NHTSA\\DataDownloads\\2016\""
   ]
  },
  {
   "cell_type": "markdown",
   "metadata": {},
   "source": [
    "### 1. Create list of download urls"
   ]
  },
  {
   "cell_type": "code",
   "execution_count": 19,
   "metadata": {
    "scrolled": true
   },
   "outputs": [
    {
     "data": {
      "text/plain": [
       "['alabama',\n",
       " 'alaska',\n",
       " 'arizona',\n",
       " 'arkansas',\n",
       " 'california',\n",
       " 'colorado',\n",
       " 'connecticut',\n",
       " 'delaware',\n",
       " 'districtofcolumbia',\n",
       " 'florida',\n",
       " 'georgia',\n",
       " 'hawaii',\n",
       " 'idaho',\n",
       " 'illinois',\n",
       " 'indiana',\n",
       " 'iowa',\n",
       " 'kansas',\n",
       " 'kentucky',\n",
       " 'louisiana',\n",
       " 'maine',\n",
       " 'maryland',\n",
       " 'massachusetts',\n",
       " 'michigan',\n",
       " 'minnesota',\n",
       " 'mississippi',\n",
       " 'missouri',\n",
       " 'montana',\n",
       " 'nebraska',\n",
       " 'nevada',\n",
       " 'newhampshire',\n",
       " 'newjersey',\n",
       " 'newmexico',\n",
       " 'newyork',\n",
       " 'northcarolina',\n",
       " 'northdakota',\n",
       " 'ohio',\n",
       " 'oklahoma',\n",
       " 'oregon',\n",
       " 'pennsylvania',\n",
       " 'rhodeisland',\n",
       " 'southcarolina',\n",
       " 'southdakota',\n",
       " 'tennessee',\n",
       " 'texas',\n",
       " 'utah',\n",
       " 'vermont',\n",
       " 'virginia',\n",
       " 'washington',\n",
       " 'westvirginia',\n",
       " 'wisconsin',\n",
       " 'wyoming']"
      ]
     },
     "execution_count": 19,
     "metadata": {},
     "output_type": "execute_result"
    }
   ],
   "source": [
    "states_list = [state.name.lower().replace(\" \", \"\") for state in us.states.STATES]\n",
    "states_list"
   ]
  },
  {
   "cell_type": "code",
   "execution_count": 20,
   "metadata": {
    "collapsed": true
   },
   "outputs": [],
   "source": [
    "# Create a state data crosswalk dictionary\n",
    "state_crosswalk_dict = {\n",
    "    \"districtofcolumbia\": 'district'\n",
    "}"
   ]
  },
  {
   "cell_type": "code",
   "execution_count": 21,
   "metadata": {
    "collapsed": true
   },
   "outputs": [],
   "source": [
    "# Create a URL crosswalk dictionary\n",
    "url_crosswalk_dict = {\n",
    "    'https://www.fhwa.dot.gov/policyinformation/hpms/shapefiles//missouri2015.zip': 'https://www.fhwa.dot.gov/policyinformation/hpms/shapefiles//missouri2015t.zip'\n",
    "}"
   ]
  },
  {
   "cell_type": "code",
   "execution_count": 22,
   "metadata": {
    "collapsed": true
   },
   "outputs": [],
   "source": [
    "# Create a shapefile name crosswalk dictionary\n",
    "shapefile_crosswalk_dict = {\n",
    "    \"Missouri_Sections.shp\": \"Missouri_Sectionst.shp\"\n",
    "}"
   ]
  },
  {
   "cell_type": "code",
   "execution_count": 23,
   "metadata": {
    "collapsed": true
   },
   "outputs": [],
   "source": [
    "# Perform state corrections for download urls\n",
    "for state in state_crosswalk_dict:\n",
    "    if state in states_list:\n",
    "        states_list.remove(state)\n",
    "        states_list.append(state_crosswalk_dict[state])"
   ]
  },
  {
   "cell_type": "markdown",
   "metadata": {},
   "source": [
    "Download Access URL: https://www.fhwa.dot.gov/policyinformation/hpms/shapefiles.cfm"
   ]
  },
  {
   "cell_type": "code",
   "execution_count": 24,
   "metadata": {
    "collapsed": true
   },
   "outputs": [],
   "source": [
    "# Get the baseline part of the download url\n",
    "baseline_download_url = r\"https://www.fhwa.dot.gov/policyinformation/hpms/shapefiles/\"\n",
    "year = \"2016\""
   ]
  },
  {
   "cell_type": "code",
   "execution_count": 25,
   "metadata": {
    "scrolled": true
   },
   "outputs": [
    {
     "data": {
      "text/plain": [
       "['https://www.fhwa.dot.gov/policyinformation/hpms/shapefiles//alabama2016.zip',\n",
       " 'https://www.fhwa.dot.gov/policyinformation/hpms/shapefiles//alaska2016.zip',\n",
       " 'https://www.fhwa.dot.gov/policyinformation/hpms/shapefiles//arizona2016.zip',\n",
       " 'https://www.fhwa.dot.gov/policyinformation/hpms/shapefiles//arkansas2016.zip',\n",
       " 'https://www.fhwa.dot.gov/policyinformation/hpms/shapefiles//california2016.zip',\n",
       " 'https://www.fhwa.dot.gov/policyinformation/hpms/shapefiles//colorado2016.zip',\n",
       " 'https://www.fhwa.dot.gov/policyinformation/hpms/shapefiles//connecticut2016.zip',\n",
       " 'https://www.fhwa.dot.gov/policyinformation/hpms/shapefiles//delaware2016.zip',\n",
       " 'https://www.fhwa.dot.gov/policyinformation/hpms/shapefiles//florida2016.zip',\n",
       " 'https://www.fhwa.dot.gov/policyinformation/hpms/shapefiles//georgia2016.zip',\n",
       " 'https://www.fhwa.dot.gov/policyinformation/hpms/shapefiles//hawaii2016.zip',\n",
       " 'https://www.fhwa.dot.gov/policyinformation/hpms/shapefiles//idaho2016.zip',\n",
       " 'https://www.fhwa.dot.gov/policyinformation/hpms/shapefiles//illinois2016.zip',\n",
       " 'https://www.fhwa.dot.gov/policyinformation/hpms/shapefiles//indiana2016.zip',\n",
       " 'https://www.fhwa.dot.gov/policyinformation/hpms/shapefiles//iowa2016.zip',\n",
       " 'https://www.fhwa.dot.gov/policyinformation/hpms/shapefiles//kansas2016.zip',\n",
       " 'https://www.fhwa.dot.gov/policyinformation/hpms/shapefiles//kentucky2016.zip',\n",
       " 'https://www.fhwa.dot.gov/policyinformation/hpms/shapefiles//louisiana2016.zip',\n",
       " 'https://www.fhwa.dot.gov/policyinformation/hpms/shapefiles//maine2016.zip',\n",
       " 'https://www.fhwa.dot.gov/policyinformation/hpms/shapefiles//maryland2016.zip',\n",
       " 'https://www.fhwa.dot.gov/policyinformation/hpms/shapefiles//massachusetts2016.zip',\n",
       " 'https://www.fhwa.dot.gov/policyinformation/hpms/shapefiles//michigan2016.zip',\n",
       " 'https://www.fhwa.dot.gov/policyinformation/hpms/shapefiles//minnesota2016.zip',\n",
       " 'https://www.fhwa.dot.gov/policyinformation/hpms/shapefiles//mississippi2016.zip',\n",
       " 'https://www.fhwa.dot.gov/policyinformation/hpms/shapefiles//missouri2016.zip',\n",
       " 'https://www.fhwa.dot.gov/policyinformation/hpms/shapefiles//montana2016.zip',\n",
       " 'https://www.fhwa.dot.gov/policyinformation/hpms/shapefiles//nebraska2016.zip',\n",
       " 'https://www.fhwa.dot.gov/policyinformation/hpms/shapefiles//nevada2016.zip',\n",
       " 'https://www.fhwa.dot.gov/policyinformation/hpms/shapefiles//newhampshire2016.zip',\n",
       " 'https://www.fhwa.dot.gov/policyinformation/hpms/shapefiles//newjersey2016.zip',\n",
       " 'https://www.fhwa.dot.gov/policyinformation/hpms/shapefiles//newmexico2016.zip',\n",
       " 'https://www.fhwa.dot.gov/policyinformation/hpms/shapefiles//newyork2016.zip',\n",
       " 'https://www.fhwa.dot.gov/policyinformation/hpms/shapefiles//northcarolina2016.zip',\n",
       " 'https://www.fhwa.dot.gov/policyinformation/hpms/shapefiles//northdakota2016.zip',\n",
       " 'https://www.fhwa.dot.gov/policyinformation/hpms/shapefiles//ohio2016.zip',\n",
       " 'https://www.fhwa.dot.gov/policyinformation/hpms/shapefiles//oklahoma2016.zip',\n",
       " 'https://www.fhwa.dot.gov/policyinformation/hpms/shapefiles//oregon2016.zip',\n",
       " 'https://www.fhwa.dot.gov/policyinformation/hpms/shapefiles//pennsylvania2016.zip',\n",
       " 'https://www.fhwa.dot.gov/policyinformation/hpms/shapefiles//rhodeisland2016.zip',\n",
       " 'https://www.fhwa.dot.gov/policyinformation/hpms/shapefiles//southcarolina2016.zip',\n",
       " 'https://www.fhwa.dot.gov/policyinformation/hpms/shapefiles//southdakota2016.zip',\n",
       " 'https://www.fhwa.dot.gov/policyinformation/hpms/shapefiles//tennessee2016.zip',\n",
       " 'https://www.fhwa.dot.gov/policyinformation/hpms/shapefiles//texas2016.zip',\n",
       " 'https://www.fhwa.dot.gov/policyinformation/hpms/shapefiles//utah2016.zip',\n",
       " 'https://www.fhwa.dot.gov/policyinformation/hpms/shapefiles//vermont2016.zip',\n",
       " 'https://www.fhwa.dot.gov/policyinformation/hpms/shapefiles//virginia2016.zip',\n",
       " 'https://www.fhwa.dot.gov/policyinformation/hpms/shapefiles//washington2016.zip',\n",
       " 'https://www.fhwa.dot.gov/policyinformation/hpms/shapefiles//westvirginia2016.zip',\n",
       " 'https://www.fhwa.dot.gov/policyinformation/hpms/shapefiles//wisconsin2016.zip',\n",
       " 'https://www.fhwa.dot.gov/policyinformation/hpms/shapefiles//wyoming2016.zip',\n",
       " 'https://www.fhwa.dot.gov/policyinformation/hpms/shapefiles//district2016.zip']"
      ]
     },
     "execution_count": 25,
     "metadata": {},
     "output_type": "execute_result"
    }
   ],
   "source": [
    "# Create a list of download URLs, checking against the URL crosswalk to make sure we account for exceptions\n",
    "download_urls = []\n",
    "for state in states_list:\n",
    "    if \"{0}/{1}{2}.zip\".format(baseline_download_url, state, year) not in url_crosswalk_dict:\n",
    "        download_urls.append(\"{0}/{1}{2}.zip\".format(baseline_download_url, state, year))\n",
    "    else:\n",
    "        download_urls.append(url_crosswalk_dict[\"{0}/{1}{2}.zip\".format(baseline_download_url, state, year)])\n",
    "download_urls        "
   ]
  },
  {
   "cell_type": "code",
   "execution_count": 26,
   "metadata": {
    "collapsed": true,
    "scrolled": true
   },
   "outputs": [],
   "source": [
    "# Create a list of download URLs\n",
    "# download_urls = [\"{0}/{1}{2}.zip\".format(baseline_download_url, state, year) for state in states_list]\n",
    "# download_urls   "
   ]
  },
  {
   "cell_type": "markdown",
   "metadata": {},
   "source": [
    "### 2. Iterate on states to download and convert"
   ]
  },
  {
   "cell_type": "code",
   "execution_count": 27,
   "metadata": {
    "scrolled": true
   },
   "outputs": [
    {
     "ename": "ExecuteError",
     "evalue": "Failed to execute. Parameters are not valid.\nERROR 000732: File GDB Location: Dataset C:\\Users\\wen10109\\Documents\\NHTSA\\DataDownloads\\2016 does not exist or is not supported\nFailed to execute (CreateFileGDB).\n",
     "output_type": "error",
     "traceback": [
      "\u001b[1;31m---------------------------------------------------------------------------\u001b[0m",
      "\u001b[1;31mExecuteError\u001b[0m                              Traceback (most recent call last)",
      "\u001b[1;32m<ipython-input-27-c2fb6f39e9b5>\u001b[0m in \u001b[0;36m<module>\u001b[1;34m()\u001b[0m\n\u001b[0;32m      1\u001b[0m \u001b[1;31m# Create the workspace file geodatabase\u001b[0m\u001b[1;33m\u001b[0m\u001b[1;33m\u001b[0m\u001b[0m\n\u001b[1;32m----> 2\u001b[1;33m \u001b[0mworkspace_gdb\u001b[0m \u001b[1;33m=\u001b[0m \u001b[0marcpy\u001b[0m\u001b[1;33m.\u001b[0m\u001b[0mCreateFileGDB_management\u001b[0m\u001b[1;33m(\u001b[0m\u001b[0mworkspace\u001b[0m\u001b[1;33m,\u001b[0m \u001b[1;34m\"hpms_workspace\"\u001b[0m\u001b[1;33m)\u001b[0m\u001b[1;33m.\u001b[0m\u001b[0mgetOutput\u001b[0m\u001b[1;33m(\u001b[0m\u001b[1;36m0\u001b[0m\u001b[1;33m)\u001b[0m \u001b[1;32mif\u001b[0m \u001b[1;32mnot\u001b[0m \u001b[0marcpy\u001b[0m\u001b[1;33m.\u001b[0m\u001b[0mExists\u001b[0m\u001b[1;33m(\u001b[0m\u001b[0mos\u001b[0m\u001b[1;33m.\u001b[0m\u001b[0mpath\u001b[0m\u001b[1;33m.\u001b[0m\u001b[0mjoin\u001b[0m\u001b[1;33m(\u001b[0m\u001b[0mworkspace\u001b[0m\u001b[1;33m,\u001b[0m \u001b[1;34m\"hpms_workspace.gdb\"\u001b[0m\u001b[1;33m)\u001b[0m\u001b[1;33m)\u001b[0m \u001b[1;32melse\u001b[0m \u001b[0mos\u001b[0m\u001b[1;33m.\u001b[0m\u001b[0mpath\u001b[0m\u001b[1;33m.\u001b[0m\u001b[0mjoin\u001b[0m\u001b[1;33m(\u001b[0m\u001b[0mworkspace\u001b[0m\u001b[1;33m,\u001b[0m \u001b[1;34m\"hpms_workspace.gdb\"\u001b[0m\u001b[1;33m)\u001b[0m\u001b[1;33m\u001b[0m\u001b[0m\n\u001b[0m\u001b[0;32m      3\u001b[0m \u001b[0mworkspace_gdb\u001b[0m\u001b[1;33m\u001b[0m\u001b[0m\n",
      "\u001b[1;32mC:\\Program Files\\ArcGIS\\Pro\\Resources\\ArcPy\\arcpy\\management.py\u001b[0m in \u001b[0;36mCreateFileGDB\u001b[1;34m(out_folder_path, out_name, out_version)\u001b[0m\n\u001b[0;32m  20232\u001b[0m         \u001b[1;32mreturn\u001b[0m \u001b[0mretval\u001b[0m\u001b[1;33m\u001b[0m\u001b[0m\n\u001b[0;32m  20233\u001b[0m     \u001b[1;32mexcept\u001b[0m \u001b[0mException\u001b[0m \u001b[1;32mas\u001b[0m \u001b[0me\u001b[0m\u001b[1;33m:\u001b[0m\u001b[1;33m\u001b[0m\u001b[0m\n\u001b[1;32m> 20234\u001b[1;33m         \u001b[1;32mraise\u001b[0m \u001b[0me\u001b[0m\u001b[1;33m\u001b[0m\u001b[0m\n\u001b[0m\u001b[0;32m  20235\u001b[0m \u001b[1;33m\u001b[0m\u001b[0m\n\u001b[0;32m  20236\u001b[0m \u001b[1;33m@\u001b[0m\u001b[0mgptooldoc\u001b[0m\u001b[1;33m(\u001b[0m\u001b[1;34m'CreateFolder_management'\u001b[0m\u001b[1;33m,\u001b[0m \u001b[1;32mNone\u001b[0m\u001b[1;33m)\u001b[0m\u001b[1;33m\u001b[0m\u001b[0m\n",
      "\u001b[1;32mC:\\Program Files\\ArcGIS\\Pro\\Resources\\ArcPy\\arcpy\\management.py\u001b[0m in \u001b[0;36mCreateFileGDB\u001b[1;34m(out_folder_path, out_name, out_version)\u001b[0m\n\u001b[0;32m  20229\u001b[0m     \u001b[1;32mfrom\u001b[0m \u001b[0marcpy\u001b[0m\u001b[1;33m.\u001b[0m\u001b[0marcobjects\u001b[0m\u001b[1;33m.\u001b[0m\u001b[0marcobjectconversion\u001b[0m \u001b[1;32mimport\u001b[0m \u001b[0mconvertArcObjectToPythonObject\u001b[0m\u001b[1;33m\u001b[0m\u001b[0m\n\u001b[0;32m  20230\u001b[0m     \u001b[1;32mtry\u001b[0m\u001b[1;33m:\u001b[0m\u001b[1;33m\u001b[0m\u001b[0m\n\u001b[1;32m> 20231\u001b[1;33m         \u001b[0mretval\u001b[0m \u001b[1;33m=\u001b[0m \u001b[0mconvertArcObjectToPythonObject\u001b[0m\u001b[1;33m(\u001b[0m\u001b[0mgp\u001b[0m\u001b[1;33m.\u001b[0m\u001b[0mCreateFileGDB_management\u001b[0m\u001b[1;33m(\u001b[0m\u001b[1;33m*\u001b[0m\u001b[0mgp_fixargs\u001b[0m\u001b[1;33m(\u001b[0m\u001b[1;33m(\u001b[0m\u001b[0mout_folder_path\u001b[0m\u001b[1;33m,\u001b[0m \u001b[0mout_name\u001b[0m\u001b[1;33m,\u001b[0m \u001b[0mout_version\u001b[0m\u001b[1;33m)\u001b[0m\u001b[1;33m,\u001b[0m \u001b[1;32mTrue\u001b[0m\u001b[1;33m)\u001b[0m\u001b[1;33m)\u001b[0m\u001b[1;33m)\u001b[0m\u001b[1;33m\u001b[0m\u001b[0m\n\u001b[0m\u001b[0;32m  20232\u001b[0m         \u001b[1;32mreturn\u001b[0m \u001b[0mretval\u001b[0m\u001b[1;33m\u001b[0m\u001b[0m\n\u001b[0;32m  20233\u001b[0m     \u001b[1;32mexcept\u001b[0m \u001b[0mException\u001b[0m \u001b[1;32mas\u001b[0m \u001b[0me\u001b[0m\u001b[1;33m:\u001b[0m\u001b[1;33m\u001b[0m\u001b[0m\n",
      "\u001b[1;32mC:\\Program Files\\ArcGIS\\Pro\\Resources\\ArcPy\\arcpy\\geoprocessing\\_base.py\u001b[0m in \u001b[0;36m<lambda>\u001b[1;34m(*args)\u001b[0m\n\u001b[0;32m    496\u001b[0m         \u001b[0mval\u001b[0m \u001b[1;33m=\u001b[0m \u001b[0mgetattr\u001b[0m\u001b[1;33m(\u001b[0m\u001b[0mself\u001b[0m\u001b[1;33m.\u001b[0m\u001b[0m_gp\u001b[0m\u001b[1;33m,\u001b[0m \u001b[0mattr\u001b[0m\u001b[1;33m)\u001b[0m\u001b[1;33m\u001b[0m\u001b[0m\n\u001b[0;32m    497\u001b[0m         \u001b[1;32mif\u001b[0m \u001b[0mcallable\u001b[0m\u001b[1;33m(\u001b[0m\u001b[0mval\u001b[0m\u001b[1;33m)\u001b[0m\u001b[1;33m:\u001b[0m\u001b[1;33m\u001b[0m\u001b[0m\n\u001b[1;32m--> 498\u001b[1;33m             \u001b[1;32mreturn\u001b[0m \u001b[1;32mlambda\u001b[0m \u001b[1;33m*\u001b[0m\u001b[0margs\u001b[0m\u001b[1;33m:\u001b[0m \u001b[0mval\u001b[0m\u001b[1;33m(\u001b[0m\u001b[1;33m*\u001b[0m\u001b[0mgp_fixargs\u001b[0m\u001b[1;33m(\u001b[0m\u001b[0margs\u001b[0m\u001b[1;33m,\u001b[0m \u001b[1;32mTrue\u001b[0m\u001b[1;33m)\u001b[0m\u001b[1;33m)\u001b[0m\u001b[1;33m\u001b[0m\u001b[0m\n\u001b[0m\u001b[0;32m    499\u001b[0m         \u001b[1;32melse\u001b[0m\u001b[1;33m:\u001b[0m\u001b[1;33m\u001b[0m\u001b[0m\n\u001b[0;32m    500\u001b[0m             \u001b[1;32mreturn\u001b[0m \u001b[0mconvertArcObjectToPythonObject\u001b[0m\u001b[1;33m(\u001b[0m\u001b[0mval\u001b[0m\u001b[1;33m)\u001b[0m\u001b[1;33m\u001b[0m\u001b[0m\n",
      "\u001b[1;31mExecuteError\u001b[0m: Failed to execute. Parameters are not valid.\nERROR 000732: File GDB Location: Dataset C:\\Users\\wen10109\\Documents\\NHTSA\\DataDownloads\\2016 does not exist or is not supported\nFailed to execute (CreateFileGDB).\n"
     ]
    }
   ],
   "source": [
    "# Create the workspace file geodatabase\n",
    "workspace_gdb = arcpy.CreateFileGDB_management(workspace, \"hpms_workspace\").getOutput(0) if not arcpy.Exists(os.path.join(workspace, \"hpms_workspace.gdb\")) else os.path.join(workspace, \"hpms_workspace.gdb\")\n",
    "workspace_gdb"
   ]
  },
  {
   "cell_type": "code",
   "execution_count": null,
   "metadata": {
    "scrolled": true
   },
   "outputs": [],
   "source": [
    "# Create containers for shapefile paths and folder paths for the merge operation after the loop\n",
    "shapefiles_list = []\n",
    "folders_list = []\n",
    "\n",
    "# Download iteration loop\n",
    "for download_url in download_urls:   \n",
    "    \n",
    "    # Get the state+year string by slicing the download URL\n",
    "    stateyear_name = download_url.split(\"//\")[-1].split(\".\")[0]\n",
    "    shapefile_folder = os.path.join(workspace, stateyear_name)\n",
    "    \n",
    "    # Handle the \"lovely\" Missouri naming exception\n",
    "    shapefile_name_string = \"_Sectionst.shp\" if stateyear_name == \"missouri2015t\" else \"_Sections.shp\"\n",
    "\n",
    "    # Establish the shapefile path\n",
    "    shapefile_path = os.path.join(shapefile_folder, \"{0}{1}\".format(stateyear_name.split(\"2\")[0].capitalize(), shapefile_name_string))\n",
    "    \n",
    "    # Determine if the shapefile already exists, and skip the download if that's the case\n",
    "    if os.path.exists(shapefile_path):\n",
    "        print(\"Shapefile for {0} already exists. Skipping...\".format(stateyear_name))\n",
    "        shapefiles_list.append(shapefile_path)\n",
    "        continue\n",
    "    \n",
    "    # Send a request to the url, download the shapefile, and unzip to the work folder for the state\n",
    "    print(\"Downloading {0}...\".format(stateyear_name))\n",
    "    response = requests.get(download_url)\n",
    "    # Unzip our request content to a specified folder (making it along the way)\n",
    "    zipDocument = zipfile.ZipFile(io.BytesIO(response.content))\n",
    "    os.makedirs(shapefile_folder)\n",
    "    os.chdir(shapefile_folder)\n",
    "    zipDocument.extractall(path=shapefile_folder)\n",
    "    # Append the shapefile path to the shapefiles_list variable\n",
    "    shapefiles_list.append(shapefile_path)"
   ]
  },
  {
   "cell_type": "code",
   "execution_count": null,
   "metadata": {
    "collapsed": true
   },
   "outputs": [],
   "source": [
    "# Create a log file containing output information\n",
    "## Pending"
   ]
  },
  {
   "cell_type": "code",
   "execution_count": null,
   "metadata": {
    "scrolled": true
   },
   "outputs": [],
   "source": [
    "# QC shapefiles for valid geometry and shape type before merging. Remove any shapefiles without Polyline shape types.\n",
    "print(\"Pre-QC shapefile count: {0}\".format(len(shapefiles_list)))\n",
    "for shapefile in shapefiles_list:\n",
    "    desc = arcpy.Describe(shapefile)\n",
    "    if desc.shapeType != \"Polyline\":\n",
    "        print(shapefile, desc.shapeType)\n",
    "        shapefiles_list.remove(shapefile)\n",
    "print(\"Post-QC shapefile count: {0}\".format(len(shapefiles_list)))"
   ]
  },
  {
   "cell_type": "markdown",
   "metadata": {},
   "source": [
    "### 3. Merge all feature classes into a single feature class for nation-wide HPMS"
   ]
  },
  {
   "cell_type": "code",
   "execution_count": null,
   "metadata": {
    "scrolled": true
   },
   "outputs": [],
   "source": [
    "# Perform an arcpy merge using the shapefiles list from the iteration above\n",
    "output_fc_path = os.path.join(workspace_gdb, \"HPMS_National_{0}\".format(year))\n",
    "output_hpms_fc = arcpy.Merge_management(inputs=shapefiles_list, output=output_fc_path).getOutput(0)\n",
    "output_hpms_fc"
   ]
  },
  {
   "cell_type": "markdown",
   "metadata": {},
   "source": [
    "### 4. Provide output as zipped file geodatabase. "
   ]
  },
  {
   "cell_type": "code",
   "execution_count": null,
   "metadata": {},
   "outputs": [],
   "source": [
    "# Zip up the HPMS file geodatabase and provide as an output\n",
    "out_zipped_fgdb = os.path.join(workspace, \"HPMS_National_{0}\".format(year))\n",
    "shutil.make_archive(out_zipped_fgdb, \"zip\", workspace_gdb)"
   ]
  }
 ],
 "metadata": {
  "kernelspec": {
   "display_name": "Python 3",
   "language": "python",
   "name": "python3"
  },
  "language_info": {
   "codemirror_mode": {
    "name": "ipython",
    "version": 3
   },
   "file_extension": ".py",
   "mimetype": "text/x-python",
   "name": "python",
   "nbconvert_exporter": "python",
   "pygments_lexer": "ipython3",
   "version": "3.6.6"
  }
 },
 "nbformat": 4,
 "nbformat_minor": 2
}
